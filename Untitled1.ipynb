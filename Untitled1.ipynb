{
 "cells": [
  {
   "cell_type": "code",
   "execution_count": 13,
   "id": "389f94d8-ec95-4949-8eda-b74635293291",
   "metadata": {},
   "outputs": [],
   "source": [
    "import pandas as pd\n",
    "import json"
   ]
  },
  {
   "cell_type": "code",
   "execution_count": 41,
   "id": "b2584c2a-ba3d-4606-b89d-5a4f6e31f392",
   "metadata": {},
   "outputs": [],
   "source": [
    "df_matchups = pd.read_csv(\"server/data/matchups/matchups_all.csv\", index_col=False).drop(\"Unnamed: 0\", axis=1).fillna(0)\n",
    "matchups_data = df_matchups.to_dict(orient='records')\n",
    "\n",
    "# Specify the output file name\n",
    "output_file = 'server/data/matchups/matchups_all.json'\n",
    "\n",
    "# Write the list of dictionaries to the JSON file\n",
    "with open(output_file, 'w', encoding='utf-8') as f:\n",
    "    json.dump(matchups_data, f, ensure_ascii=False, indent=4)"
   ]
  },
  {
   "cell_type": "code",
   "execution_count": 42,
   "id": "0e8e1f82-3b73-4ada-8964-e13bf8e527bc",
   "metadata": {},
   "outputs": [],
   "source": [
    "df_standings = pd.read_csv(\"server/data/standings/standings_all.csv\", index_col=False).fillna(0)\n",
    "standings_data = df_standings.to_dict(orient='records')\n",
    "\n",
    "# Specify the output file name\n",
    "output_file = 'server/data/standings/standings_all.json'\n",
    "\n",
    "# Write the list of dictionaries to the JSON file\n",
    "with open(output_file, 'w', encoding='utf-8') as f:\n",
    "    json.dump(standings_data, f, ensure_ascii=False, indent=4)"
   ]
  },
  {
   "cell_type": "code",
   "execution_count": 43,
   "id": "106c3c7d-ae9d-46d8-9763-7fde1d68dca3",
   "metadata": {
    "scrolled": true
   },
   "outputs": [],
   "source": [
    "df_teams = pd.read_csv(\"server/data/teams/teams_all.csv\", index_col=False).fillna(0)\n",
    "teams_data = df_teams.to_dict(orient='records')\n",
    "\n",
    "# Specify the output file name\n",
    "output_file = 'server/data/teams/teams_all.json'\n",
    "\n",
    "# Write the list of dictionaries to the JSON file\n",
    "with open(output_file, 'w', encoding='utf-8') as f:\n",
    "    json.dump(teams_data, f, ensure_ascii=False, indent=4)"
   ]
  },
  {
   "cell_type": "code",
   "execution_count": 44,
   "id": "202de4f0-cc2b-4d49-b3e9-01d7e2fd854b",
   "metadata": {},
   "outputs": [],
   "source": [
    "all_data = {}\n",
    "all_data['matchups'] = matchups_data\n",
    "all_data['standings'] = standings_data\n",
    "# all_data['teams'] = teams_data\n",
    "\n",
    "# Specify the output file name\n",
    "output_file = 'server/data/all_data.json'\n",
    "\n",
    "# Write the list of dictionaries to the JSON file\n",
    "with open(output_file, 'w', encoding='utf-8') as f:\n",
    "    json.dump(all_data, f, ensure_ascii=False, indent=4)"
   ]
  },
  {
   "cell_type": "code",
   "execution_count": null,
   "id": "43f0d3dd-6aea-4950-9749-9ed840a7ee7f",
   "metadata": {},
   "outputs": [],
   "source": []
  }
 ],
 "metadata": {
  "kernelspec": {
   "display_name": "Python 3 (ipykernel)",
   "language": "python",
   "name": "python3"
  },
  "language_info": {
   "codemirror_mode": {
    "name": "ipython",
    "version": 3
   },
   "file_extension": ".py",
   "mimetype": "text/x-python",
   "name": "python",
   "nbconvert_exporter": "python",
   "pygments_lexer": "ipython3",
   "version": "3.11.10"
  }
 },
 "nbformat": 4,
 "nbformat_minor": 5
}
